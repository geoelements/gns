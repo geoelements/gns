{
 "cells": [
  {
   "cell_type": "markdown",
   "id": "b47986fe-6510-4da1-b085-3f2f82100b92",
   "metadata": {},
   "source": [
    "# Convert HDH5 to npz format\n",
    "\n",
    "> Joseph P. Vantassel, The University of Texas at Austin"
   ]
  },
  {
   "cell_type": "code",
   "execution_count": null,
   "id": "c175c218-b1b6-47b0-8eb1-a1dbc8201434",
   "metadata": {},
   "outputs": [],
   "source": [
    "import h5py\n",
    "import numpy as np\n",
    "import matplotlib.pyplot as plt"
   ]
  },
  {
   "cell_type": "markdown",
   "id": "e9128e09-01a1-4098-a85b-366122ba7867",
   "metadata": {},
   "source": [
    "## Load hdf5 and store in list of ndarrays"
   ]
  },
  {
   "cell_type": "code",
   "execution_count": null,
   "id": "f1530913-ce52-40f9-bd97-b403d61c5955",
   "metadata": {},
   "outputs": [],
   "source": [
    "numbers = range(0, 100000, 200)\n",
    "positions = []\n",
    "\n",
    "for number in numbers:\n",
    "    fname = f\"mpm_1to1/particles{str(number).zfill(6)}.h5\"\n",
    "    position = np.empty((1024, 2), dtype=float)\n",
    "    with h5py.File(fname, \"r\") as f:\n",
    "        position[:, 0] = f[\"table\"][\"coord_x\"][:]\n",
    "        position[:, 1] = f[\"table\"][\"coord_y\"][:]\n",
    "    positions.append(position)\n",
    "\n",
    "positions = np.array(positions)\n",
    "print(positions.shape)"
   ]
  },
  {
   "cell_type": "markdown",
   "id": "2621e488-f7f4-42cf-a3eb-5fd4d24fb135",
   "metadata": {},
   "source": [
    "## Calculate Mean Velocity and Mean Acceleration"
   ]
  },
  {
   "cell_type": "code",
   "execution_count": null,
   "id": "d5125cc3-c8fa-48f7-9dd9-f60437cce8ee",
   "metadata": {},
   "outputs": [],
   "source": [
    "numbers = range(0, 100000, 200)\n",
    "velocities = []\n",
    "accelerations = []\n",
    "\n",
    "for number in numbers:\n",
    "    fname = f\"mpm_1to1/dataset/raw/particles{str(number).zfill(6)}.h5\"\n",
    "    velocity = np.empty((1024, 2), dtype=float)\n",
    "    acceleration = np.empty((1024, 2), dtype=float)\n",
    "    with h5py.File(fname, \"r\") as f:\n",
    "        velocity[:, 0] = f[\"table\"][\"velocity_x\"][:]\n",
    "        velocity[:, 1] = f[\"table\"][\"velocity_y\"][:]\n",
    "        \n",
    "        acceleration[:, 0] = f[\"table\"][\"velocity_x\"][:]\n",
    "        acceleration[:, 1] = f[\"table\"][\"velocity_y\"][:]\n",
    "    velocities.append(velocity)\n",
    "    accelerations.append(acceleration)\n",
    "\n",
    "velocities = np.array(velocities)\n",
    "accelerations = np.array(accelerations)\n",
    "\n",
    "print(f\"Velcocity: mean={np.mean(velocities, axis=(0,1))}, std={np.std(velocities, axis=(0,1))}\")\n",
    "print(f\"Acceleration: mean={np.mean(accelerations, axis=(0,1))}, std={np.std(accelerations, axis=(0,1))}\")"
   ]
  },
  {
   "cell_type": "markdown",
   "id": "365d1728-06ac-4a32-b1f4-5a9eb621011d",
   "metadata": {},
   "source": [
    "## Plot trajectory"
   ]
  },
  {
   "cell_type": "code",
   "execution_count": null,
   "id": "78bcfe86-b8e4-4f3c-8bff-40eee9b2a7fd",
   "metadata": {},
   "outputs": [],
   "source": [
    "%matplotlib qt5\n",
    "\n",
    "fig, ax = plt.subplots(figsize=(5,5), dpi=150)\n",
    "plt.ion()\n",
    "fig.show()\n",
    "\n",
    "for position in positions:\n",
    "    ax.clear()\n",
    "    ax.scatter(position[:, 0], position[:, 1], s=0.5)\n",
    "    ax.set_xlim(0., 1.)\n",
    "    ax.set_ylim(0., 1.)\n",
    "    plt.pause(.000001)\n",
    "    fig.canvas.draw()\n",
    "\n",
    "plt.close()  "
   ]
  },
  {
   "cell_type": "markdown",
   "id": "0b779d9b-0823-45e1-b660-31e0619e5e2d",
   "metadata": {},
   "source": [
    "## Save to `npz`"
   ]
  },
  {
   "cell_type": "code",
   "execution_count": null,
   "id": "4957ff12-efc4-4846-bd73-2301152900ce",
   "metadata": {},
   "outputs": [],
   "source": [
    "trajectories = {}\n",
    "trajectories[\"simulation_trajectory_0\"] = (positions, np.full(positions.shape[1], 6, dtype=int))\n",
    "np.savez_compressed(\"train_mpm1to1.npz\", **trajectories)"
   ]
  },
  {
   "cell_type": "markdown",
   "id": "16e115f4-5559-4e2c-b20e-ee645b28db6c",
   "metadata": {},
   "source": [
    "## Check Conversion to `npz`"
   ]
  },
  {
   "cell_type": "code",
   "execution_count": null,
   "id": "c661eecf-a683-4477-b900-d06fb921a3b0",
   "metadata": {},
   "outputs": [],
   "source": [
    "a = np.load(\"train_mpm1to1.npz\", allow_pickle=True)\n",
    "a[\"simulation_trajectory_0\"]"
   ]
  },
  {
   "cell_type": "code",
   "execution_count": null,
   "id": "d7629c4d-003d-492a-99c3-a98e8fa356ba",
   "metadata": {},
   "outputs": [],
   "source": []
  }
 ],
 "metadata": {
  "kernelspec": {
   "display_name": "Python 3 (ipykernel)",
   "language": "python",
   "name": "python3"
  },
  "language_info": {
   "codemirror_mode": {
    "name": "ipython",
    "version": 3
   },
   "file_extension": ".py",
   "mimetype": "text/x-python",
   "name": "python",
   "nbconvert_exporter": "python",
   "pygments_lexer": "ipython3",
   "version": "3.9.5"
  }
 },
 "nbformat": 4,
 "nbformat_minor": 5
}
